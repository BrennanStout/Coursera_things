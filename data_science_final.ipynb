{
 "cells": [
  {
   "cell_type": "markdown",
   "id": "1720908d-d790-4ade-af66-6b62fea0de9b",
   "metadata": {},
   "source": [
    "# Data Science Tools and Ecosystem"
   ]
  },
  {
   "cell_type": "markdown",
   "id": "702ba41b-1b9a-4bbf-b313-2eb4da8922a1",
   "metadata": {},
   "source": [
    "This notebook is a summarization of Data Sciences Tools and Ecosystems"
   ]
  },
  {
   "cell_type": "markdown",
   "id": "38e3f094-23b1-4da3-8d20-2deef9eba82d",
   "metadata": {},
   "source": [
    "**Objectives:**\n",
    "- Popular Languages\n",
    "- Common Libraries\n",
    "- Data Science Tools\n",
    "- Code Examples"
   ]
  },
  {
   "cell_type": "markdown",
   "id": "cd602d97-0e0d-420b-863d-3001a0545c3c",
   "metadata": {},
   "source": [
    "Some of the popular languages that Data Scientists use are:\n",
    "1. Python\n",
    "2. R\n",
    "3. SQL"
   ]
  },
  {
   "cell_type": "markdown",
   "id": "baf3ba53-7edf-4f4c-8698-6e12d8a1a11d",
   "metadata": {},
   "source": [
    "---------------------------"
   ]
  },
  {
   "cell_type": "markdown",
   "id": "78e23d0d-486c-415e-bd29-58b874d63773",
   "metadata": {},
   "source": [
    "Some commonly used libraries for Data Science includes:\n",
    "1. pandas\n",
    "2. Matplotlib\n",
    "3. TensorFlow"
   ]
  },
  {
   "cell_type": "markdown",
   "id": "1b091f69-8640-4aac-a207-bc1862657c80",
   "metadata": {},
   "source": [
    "|Data Science Tools|\n",
    "|------|\n",
    "|Weka     |\n",
    "|Pandas     |\n",
    "|Spark     |"
   ]
  },
  {
   "cell_type": "markdown",
   "id": "8ad4af90-b9bb-44e3-a5fe-bb9682b94e4c",
   "metadata": {},
   "source": [
    "------------------"
   ]
  },
  {
   "cell_type": "markdown",
   "id": "0a682df8-7714-4d67-a75d-f9c875517412",
   "metadata": {},
   "source": [
    "### Below are a few exmaple of evaluating arithmetic expresions in Python"
   ]
  },
  {
   "cell_type": "code",
   "execution_count": 3,
   "id": "6facd388-c704-4974-b73b-5fb9093395f0",
   "metadata": {},
   "outputs": [
    {
     "data": {
      "text/plain": [
       "17"
      ]
     },
     "execution_count": 3,
     "metadata": {},
     "output_type": "execute_result"
    }
   ],
   "source": [
    "# This is an expression to mutiply then add integers\n",
    "(3 * 4) + 5"
   ]
  },
  {
   "cell_type": "code",
   "execution_count": 11,
   "id": "302e20d3-a529-4521-9241-4ea3ca05c231",
   "metadata": {},
   "outputs": [
    {
     "name": "stdout",
     "output_type": "stream",
     "text": [
      "200 minutes are 3.33 hours.\n"
     ]
    }
   ],
   "source": [
    "# This converts 200 minutes to hours by dividing by sixty\n",
    "minutes = 200\n",
    "print(minutes, \"minutes are\", round(minutes/60, 2), \"hours.\")"
   ]
  },
  {
   "cell_type": "markdown",
   "id": "01e69fb4-c245-4efa-9a15-fcdc602643f6",
   "metadata": {},
   "source": [
    "## Author\n",
    "Brennan Stout"
   ]
  }
 ],
 "metadata": {
  "kernelspec": {
   "display_name": "Python 3",
   "language": "python",
   "name": "python3"
  },
  "language_info": {
   "codemirror_mode": {
    "name": "ipython",
    "version": 3
   },
   "file_extension": ".py",
   "mimetype": "text/x-python",
   "name": "python",
   "nbconvert_exporter": "python",
   "pygments_lexer": "ipython3",
   "version": "3.11.11"
  }
 },
 "nbformat": 4,
 "nbformat_minor": 5
}
